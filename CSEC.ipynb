{
  "nbformat": 4,
  "nbformat_minor": 0,
  "metadata": {
    "colab": {
      "provenance": [],
      "authorship_tag": "ABX9TyN30uSR/cqn9BpEWe0C2coJ",
      "include_colab_link": true
    },
    "kernelspec": {
      "name": "python3",
      "display_name": "Python 3"
    },
    "language_info": {
      "name": "python"
    }
  },
  "cells": [
    {
      "cell_type": "markdown",
      "metadata": {
        "id": "view-in-github",
        "colab_type": "text"
      },
      "source": [
        "<a href=\"https://colab.research.google.com/github/aabbell/csec/blob/main/CSEC.ipynb\" target=\"_parent\"><img src=\"https://colab.research.google.com/assets/colab-badge.svg\" alt=\"Open In Colab\"/></a>"
      ]
    },
    {
      "cell_type": "markdown",
      "source": [
        "1. What is the difference between a list, a dictionary, and a NumPy array? Give one example of each.\n",
        "a list is a ordered and unchangeable sequance of data or items\n",
        "Example:"
      ],
      "metadata": {
        "id": "ijNc0cvYt4q4"
      }
    },
    {
      "cell_type": "code",
      "source": [
        "cars = ['BYD', 'Tesla', 'BMW','VOlVO']"
      ],
      "metadata": {
        "id": "opxVKClyt9ze"
      },
      "execution_count": null,
      "outputs": []
    },
    {
      "cell_type": "markdown",
      "source": [
        "a dictionary is a way to store an item or data with a key and a value\n",
        "Example:"
      ],
      "metadata": {
        "id": "DbBCoY4JuC6z"
      }
    },
    {
      "cell_type": "markdown",
      "source": [
        "# New Section"
      ],
      "metadata": {
        "id": "YgZ-oAts3D0H"
      }
    },
    {
      "cell_type": "code",
      "source": [
        "detail_of_car = {'brand': 'BYD','year': 2025,'type': \"SUV\"}"
      ],
      "metadata": {
        "id": "ZGyTQlgKuR-J"
      },
      "execution_count": null,
      "outputs": []
    },
    {
      "cell_type": "markdown",
      "source": [
        "a NUMPy array is values with the same type of data or item that is a nonnegative number\n",
        "Example"
      ],
      "metadata": {
        "id": "92vImbfuuul2"
      }
    },
    {
      "cell_type": "code",
      "source": [
        "import numpy as np\n",
        "arr = np.array([1, 2, 3, 4, 5])"
      ],
      "metadata": {
        "id": "Kfac4H78uzax"
      },
      "execution_count": null,
      "outputs": []
    },
    {
      "cell_type": "markdown",
      "source": [
        "2. Given the list [10, 15, 20, 25, 30], write a function that returns the square of only even numbers."
      ],
      "metadata": {
        "id": "3UBfASWDu2pB"
      }
    },
    {
      "cell_type": "code",
      "source": [
        "list = [10, 15, 20, 25, 30]\n",
        "def square_even_numbers(list):\n",
        "    even_numbers = []\n",
        "    for num in list:\n",
        "      if num % 2 == 0:\n",
        "          even_numbers.apppend(num**2)\n",
        "    return even_numbers\n"
      ],
      "metadata": {
        "id": "UnIXohaVu60l"
      },
      "execution_count": null,
      "outputs": []
    },
    {
      "cell_type": "markdown",
      "source": [
        "What does the following code output, and why?"
      ],
      "metadata": {
        "id": "RlfivU1ivt7f"
      }
    },
    {
      "cell_type": "markdown",
      "source": [
        "This code outputs 1 2 3 b/c we gave x's items to y and then added a new item which is 4 and printed x since x is the one that shared its data not y x does not change"
      ],
      "metadata": {
        "id": "xt40lkrNv9bq"
      }
    },
    {
      "cell_type": "markdown",
      "source": [
        "4. What does .shape and .describe() tell you about a pandas DataFrame? Show using an example."
      ],
      "metadata": {
        "id": "sIizLNvAxQYS"
      }
    },
    {
      "cell_type": "markdown",
      "source": [
        ".shape tell me the dataFrames dimiention meaning the rows and columns of the dataFrame"
      ],
      "metadata": {
        "id": "a0khoIUIxU6i"
      }
    },
    {
      "cell_type": "code",
      "source": [
        "import pandas as pd\n",
        "\n",
        "df = pd.read_csv('data.csv')\n",
        "\n",
        "print(df.shape)"
      ],
      "metadata": {
        "id": "RlQylqNoyBx4"
      },
      "execution_count": null,
      "outputs": []
    },
    {
      "cell_type": "markdown",
      "source": [
        ".describe() tell me the discription of dataFrame like min, max, mean and so on"
      ],
      "metadata": {
        "id": "Rxh-_gmNyLTg"
      }
    },
    {
      "cell_type": "code",
      "source": [
        "import pandas as pd\n",
        "\n",
        "data = [[10, 18, 11], [13, 15, 8], [9, 20, 3]]\n",
        "\n",
        "df = pd.DataFrame(data)\n",
        "\n",
        "print(df.decribe())"
      ],
      "metadata": {
        "id": "F58e2lXsyuk3"
      },
      "execution_count": null,
      "outputs": []
    },
    {
      "cell_type": "markdown",
      "source": [
        "5. Load this CSV: airtravel.csv\n",
        "\n",
        "    Print the first 5 rows\n",
        "    What do you notice about the data?"
      ],
      "metadata": {
        "id": "Lxn9yPbs159H"
      }
    },
    {
      "cell_type": "code",
      "source": [
        "import pandas as pd\n",
        "\n",
        "data = pd.read_csv('airtravel.csv')\n",
        "\n",
        "print(data.head())"
      ],
      "metadata": {
        "colab": {
          "base_uri": "https://localhost:8080/"
        },
        "id": "qjvHuftx2ezJ",
        "outputId": "9bd2eccd-d1fc-4c48-9729-5f0611b63ade"
      },
      "execution_count": null,
      "outputs": [
        {
          "output_type": "stream",
          "name": "stdout",
          "text": [
            "  Month   \"1958\"   \"1959\"   \"1960\"\n",
            "0   JAN      340      360      417\n",
            "1   FEB      318      342      391\n",
            "2   MAR      362      406      419\n",
            "3   APR      348      396      461\n",
            "4   MAY      363      420      472\n"
          ]
        }
      ]
    },
    {
      "cell_type": "markdown",
      "source": [
        "some thing I noticed is after the first month the passanger number decreased and then increased and then again decreased until may but not for 1960 in april it did not decrease it kept increaseing."
      ],
      "metadata": {
        "id": "-ns5TBh937pM"
      }
    },
    {
      "cell_type": "markdown",
      "source": [
        "6.Load the CSV from Q5 and find:\n",
        "\n",
        "      The month with the highest total passengers\n",
        "      The month with the lowest in 1958"
      ],
      "metadata": {
        "id": "3Z30Vnks5qer"
      }
    },
    {
      "cell_type": "code",
      "source": [
        "import pandas as pd\n",
        "\n",
        "data = pd.read_csv('airtravel.csv')\n",
        "\n",
        "data.columns = data.columns.str.strip().str.replace('\"','')\n",
        "\n",
        "data.columns = ['Month'] + [int(year)for year in data.columns[1:]]\n",
        "\n",
        "data['Total'] = data[[1958,1959,1960]].sum(axis = 1)\n",
        "\n",
        "max_month = data.loc[data['Total'].idxmax(),'Month']\n",
        "\n",
        "min_1958 = data.loc[data[1958].idxmin(),'Month']\n",
        "\n",
        "print(max_month)\n",
        "print(min_1958)"
      ],
      "metadata": {
        "colab": {
          "base_uri": "https://localhost:8080/"
        },
        "id": "KZKK6YNq5xst",
        "outputId": "bd9d57b5-71b0-4ae5-d2a1-607d1caef168"
      },
      "execution_count": null,
      "outputs": [
        {
          "output_type": "stream",
          "name": "stdout",
          "text": [
            "AUG\n",
            "NOV\n"
          ]
        }
      ]
    },
    {
      "cell_type": "markdown",
      "source": [
        "7.  What does the .groupby() function do in pandas? Show an example using dummy data."
      ],
      "metadata": {
        "id": "mF1vG3FAQPWA"
      }
    },
    {
      "cell_type": "markdown",
      "source": [
        ".groupby() is a function that groups data into a needed values in the columns"
      ],
      "metadata": {
        "id": "e3VIjtI4QRAX"
      }
    },
    {
      "cell_type": "code",
      "source": [
        "import pandas as pd\n",
        "\n",
        "data = {\n",
        "    'Department': ['HR', 'IT', 'HR', 'Finance', 'IT', 'Finance'],\n",
        "    'Employee': ['Alice', 'Bob', 'Charlie', 'David', 'Eve', 'Frank'],\n",
        "    'Salary': [5000, 6000, 4500, 7000, 5500, 8000]\n",
        "}\n",
        "df = pd.DataFrame(data)\n",
        "\n",
        "grouped = df.groupby('Department')['Salary'].mean()\n",
        "print (grouped)"
      ],
      "metadata": {
        "colab": {
          "base_uri": "https://localhost:8080/"
        },
        "id": "0JZ7l1nCWuZs",
        "outputId": "92afd622-cda8-49af-fa34-7f4eec24a06a"
      },
      "execution_count": null,
      "outputs": [
        {
          "output_type": "stream",
          "name": "stdout",
          "text": [
            "Department\n",
            "Finance    7500.0\n",
            "HR         4750.0\n",
            "IT         5750.0\n",
            "Name: Salary, dtype: float64\n"
          ]
        }
      ]
    },
    {
      "cell_type": "markdown",
      "source": [
        "8. Load the Titanic dataset from seaborn and:\n",
        "\n",
        "      Count how many missing values are in each column  "
      ],
      "metadata": {
        "id": "BrW5x-JYRNbm"
      }
    },
    {
      "cell_type": "code",
      "source": [
        "import pandas as pd\n",
        "import seaborn as sns\n",
        "\n",
        "titanic = pd.read_csv('titanic.csv')\n",
        "missing = titanic.isnull().sum()\n",
        "sns.jointplot(x='fare',y='age',data=titanic)\n",
        "print(missing)\n",
        "print(titanic)"
      ],
      "metadata": {
        "colab": {
          "base_uri": "https://localhost:8080/",
          "height": 1000
        },
        "id": "2VVzpOQhS_-d",
        "outputId": "408de426-fadc-4a67-a725-eee3ca5e003d"
      },
      "execution_count": null,
      "outputs": [
        {
          "output_type": "stream",
          "name": "stdout",
          "text": [
            "survived         0\n",
            "pclass           0\n",
            "sex              0\n",
            "age            177\n",
            "sibsp            0\n",
            "parch            0\n",
            "fare             0\n",
            "embarked         2\n",
            "class            0\n",
            "who              0\n",
            "adult_male       0\n",
            "deck           688\n",
            "embark_town      2\n",
            "alive            0\n",
            "alone            0\n",
            "dtype: int64\n",
            "     survived  pclass     sex   age  sibsp  parch     fare embarked   class  \\\n",
            "0           0       3    male  22.0      1      0   7.2500        S   Third   \n",
            "1           1       1  female  38.0      1      0  71.2833        C   First   \n",
            "2           1       3  female  26.0      0      0   7.9250        S   Third   \n",
            "3           1       1  female  35.0      1      0  53.1000        S   First   \n",
            "4           0       3    male  35.0      0      0   8.0500        S   Third   \n",
            "..        ...     ...     ...   ...    ...    ...      ...      ...     ...   \n",
            "886         0       2    male  27.0      0      0  13.0000        S  Second   \n",
            "887         1       1  female  19.0      0      0  30.0000        S   First   \n",
            "888         0       3  female   NaN      1      2  23.4500        S   Third   \n",
            "889         1       1    male  26.0      0      0  30.0000        C   First   \n",
            "890         0       3    male  32.0      0      0   7.7500        Q   Third   \n",
            "\n",
            "       who  adult_male deck  embark_town alive  alone  \n",
            "0      man        True  NaN  Southampton    no  False  \n",
            "1    woman       False    C    Cherbourg   yes  False  \n",
            "2    woman       False  NaN  Southampton   yes   True  \n",
            "3    woman       False    C  Southampton   yes  False  \n",
            "4      man        True  NaN  Southampton    no   True  \n",
            "..     ...         ...  ...          ...   ...    ...  \n",
            "886    man        True  NaN  Southampton    no   True  \n",
            "887  woman       False    B  Southampton   yes   True  \n",
            "888  woman       False  NaN  Southampton    no  False  \n",
            "889    man        True    C    Cherbourg   yes   True  \n",
            "890    man        True  NaN   Queenstown    no   True  \n",
            "\n",
            "[891 rows x 15 columns]\n"
          ]
        },
        {
          "output_type": "display_data",
          "data": {
            "text/plain": [
              "<Figure size 600x600 with 3 Axes>"
            ],
            "image/png": "[encoded data removed]"
          },
          "metadata": {}
        }
      ]
    },
    {
      "cell_type": "markdown",
      "source": [
        "9.  Use df[\"Age\"].hist() to visualize the age distribution.\n",
        "\n",
        "    What shape do you see\n",
        "\n",
        "    What might be the reason for the skew?"
      ],
      "metadata": {
        "id": "IMFwGnn8ObrA"
      }
    },
    {
      "cell_type": "code",
      "source": [
        "import pandas as pd\n",
        "import seaborn as sns\n",
        "\n",
        "df = pd.read_csv('titanic.csv')\n",
        "df['age'].hist()"
      ],
      "metadata": {
        "colab": {
          "base_uri": "https://localhost:8080/",
          "height": 449
        },
        "id": "phxkFstOOol8",
        "outputId": "99eabb49-3cb4-4f53-d3f2-f780e3d5fc8f"
      },
      "execution_count": null,
      "outputs": [
        {
          "output_type": "execute_result",
          "data": {
            "text/plain": [
              "<Axes: >"
            ]
          },
          "metadata": {},
          "execution_count": 8
        },
        {
          "output_type": "display_data",
          "data": {
            "text/plain": [
              "<Figure size 640x480 with 1 Axes>"
            ],
            "image/png": "[encoded data removed]"
          },
          "metadata": {}
        }
      ]
    },
    {
      "cell_type": "markdown",
      "source": [
        "the graph show that there are large number of young people between the age of 20 to 30 and small amount of people from the age of 50+.\n",
        "The reason for the age difference in the titanic is because most populations has more number of young people and young people are the ones that travel most."
      ],
      "metadata": {
        "id": "TVilyJNuQLRP"
      }
    },
    {
      "cell_type": "markdown",
      "source": [
        "10. What does it mean if a column has a high standard deviation?\n",
        "\n",
        "      Create a list or column that has a low and a high std. dev, and compare."
      ],
      "metadata": {
        "id": "STrEEVVfSrhr"
      }
    },
    {
      "cell_type": "markdown",
      "source": [
        "when a column has a high standard deviation is means that the data is widely speard out"
      ],
      "metadata": {
        "id": "8JgMq5KLS1gs"
      }
    },
    {
      "cell_type": "code",
      "source": [
        "import pandas as pd\n",
        "import numpy as np\n",
        "\n",
        "data = {\n",
        "    'Age_Cluster': [29, 30, 31, 30, 29, 31, 30, 30, 29, 31],\n",
        "\n",
        "\n",
        "    'Age_Spread': [5, 18, 30, 42, 55, 70, 85, 10, 25, 60],\n",
        "\n",
        "    'Income_Cluster': [45000, 46000, 45500, 45200, 45800, 46000, 45500, 45300, 45700, 45900],\n",
        "\n",
        "    'Income_Spread': [25000, 75000, 40000, 120000, 35000, 95000, 28000, 110000, 42000, 80000]\n",
        "    }\n",
        "df = pd.DataFrame(data)\n",
        "\n",
        "std_dev = df.std()\n",
        "print(std_dev)"
      ],
      "metadata": {
        "colab": {
          "base_uri": "https://localhost:8080/"
        },
        "id": "fg7pSb5NUPsv",
        "outputId": "f829d342-6955-4c0b-8c63-ec7b7266ff92"
      },
      "execution_count": null,
      "outputs": [
        {
          "output_type": "stream",
          "name": "stdout",
          "text": [
            "Age_Cluster           0.816497\n",
            "Age_Spread           26.849374\n",
            "Income_Cluster      347.850543\n",
            "Income_Spread     35430.683501\n",
            "dtype: float64\n"
          ]
        }
      ]
    },
    {
      "cell_type": "markdown",
      "source": [
        "11.What are some real-world problems where missing data might affect results? Give 2 examples."
      ],
      "metadata": {
        "id": "1dZN1ZU-fjRT"
      }
    },
    {
      "cell_type": "markdown",
      "source": [
        "In Healthcare is a department that missing data can really affect the patiant\n",
        "and the other one is in Financial Fraud Detection is a department that a missing data can affect the people being invertigated\n",
        "Exapmle:"
      ],
      "metadata": {
        "id": "lUfi-UjSfkur"
      }
    },
    {
      "cell_type": "code",
      "source": [
        "#in Healthcare\n",
        "import pandas as pd\n",
        "\n",
        "data = {\n",
        "    'patient_id': 12,\n",
        "    'age': 32,\n",
        "    'treatment_duration': 45,\n",
        "    'side_effects': null\n",
        "}"
      ],
      "metadata": {
        "id": "io8GN4QJg0uH"
      },
      "execution_count": null,
      "outputs": []
    },
    {
      "cell_type": "markdown",
      "source": [
        "with this missing data of side effects could potencially kill the patiant."
      ],
      "metadata": {
        "id": "S1lkoAK_hXlt"
      }
    },
    {
      "cell_type": "code",
      "source": [
        "# in financial fraud detection\n",
        "import pandas as pd\n",
        "\n",
        "data = {\n",
        "    'transaction_id': 26,\n",
        "    'amount': 1000000,\n",
        "    'country': \"ethiopia\",\n",
        "    'time_of_day': \"Night\",\n",
        "    'transactiion_history': null\n",
        "}"
      ],
      "metadata": {
        "id": "MqWnICg7hnf1"
      },
      "execution_count": null,
      "outputs": []
    },
    {
      "cell_type": "markdown",
      "source": [
        "with this missing data of transaction history the person might be found guilty even if we dont know the past history of the person"
      ],
      "metadata": {
        "id": "dXjNEhyviXlI"
      }
    }
  ]
}